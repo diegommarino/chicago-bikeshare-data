{
 "cells": [
  {
   "cell_type": "markdown",
   "metadata": {},
   "source": [
    "# Setup"
   ]
  },
  {
   "cell_type": "code",
   "execution_count": 40,
   "metadata": {
    "collapsed": false
   },
   "outputs": [
    {
     "name": "stdout",
     "output_type": "stream",
     "text": [
      "Reading the document...\n",
      "Ok!\n",
      "Number of rows:\n",
      "1551506\n",
      "Row 0: \n",
      "['Start Time', 'End Time', 'Trip Duration', 'Start Station', 'End Station', 'User Type', 'Gender', 'Birth Year']\n",
      "Row 1: \n",
      "['2017-01-01 00:00:36', '2017-01-01 00:06:32', '356', 'Canal St & Taylor St', 'Canal St & Monroe St (*)', 'Customer', '', '']\n"
     ]
    }
   ],
   "source": [
    "# coding: utf-8\n",
    "\n",
    "# Here goes the imports\n",
    "import csv\n",
    "import matplotlib.pyplot as plt\n",
    "\n",
    "# Let's read the data as a list\n",
    "print(\"Reading the document...\")\n",
    "with open(\"chicago.csv\", \"r\") as file_read:\n",
    "    reader = csv.reader(file_read)\n",
    "    data_list = list(reader)\n",
    "print(\"Ok!\")\n",
    "\n",
    "# Let's check how many rows do we have\n",
    "print(\"Number of rows:\")\n",
    "print(len(data_list))\n",
    "\n",
    "# Printing the first row of data_list to check if it worked.\n",
    "print(\"Row 0: \")\n",
    "print(data_list[0])\n",
    "# It's the data header, so we can identify the columns.\n",
    "\n",
    "# Printing the second row of data_list, it should contain some data\n",
    "print(\"Row 1: \")\n",
    "print(data_list[1])"
   ]
  },
  {
   "cell_type": "markdown",
   "metadata": {},
   "source": [
    "# Task 1\n",
    "> Print the first 20 rows using a loop to identify the data."
   ]
  },
  {
   "cell_type": "code",
   "execution_count": 41,
   "metadata": {
    "collapsed": false
   },
   "outputs": [
    {
     "name": "stdout",
     "output_type": "stream",
     "text": [
      "['2017-01-01 00:00:36', '2017-01-01 00:06:32', '356', 'Canal St & Taylor St', 'Canal St & Monroe St (*)', 'Customer', '', '']\n",
      "['2017-01-01 00:02:54', '2017-01-01 00:08:21', '327', 'Larrabee St & Menomonee St', 'Sheffield Ave & Kingsbury St', 'Subscriber', 'Male', '1984.0']\n",
      "['2017-01-01 00:06:06', '2017-01-01 00:18:31', '745', 'Orleans St & Chestnut St (NEXT Apts)', 'Ashland Ave & Blackhawk St', 'Subscriber', 'Male', '1985.0']\n",
      "['2017-01-01 00:07:28', '2017-01-01 00:12:51', '323', 'Franklin St & Monroe St', 'Clinton St & Tilden St', 'Subscriber', 'Male', '1990.0']\n",
      "['2017-01-01 00:07:57', '2017-01-01 00:20:53', '776', 'Broadway & Barry Ave', 'Sedgwick St & North Ave', 'Subscriber', 'Male', '1990.0']\n",
      "['2017-01-01 00:10:44', '2017-01-01 00:21:27', '643', 'State St & Kinzie St', 'Wells St & Polk St', 'Subscriber', 'Male', '1970.0']\n",
      "['2017-01-01 00:11:34', '2017-01-01 00:23:47', '733', 'Wabash Ave & Wacker Pl', 'Clinton St & Tilden St', 'Subscriber', 'Male', '1986.0']\n",
      "['2017-01-01 00:14:57', '2017-01-01 00:26:22', '685', 'Daley Center Plaza', 'Canal St & Monroe St (*)', 'Customer', '', '']\n",
      "['2017-01-01 00:15:03', '2017-01-01 00:26:28', '685', 'Daley Center Plaza', 'Canal St & Monroe St (*)', 'Customer', '', '']\n",
      "['2017-01-01 00:17:01', '2017-01-01 00:29:49', '768', 'Dayton St & North Ave', 'Ogden Ave & Chicago Ave', 'Customer', '', '']\n",
      "['2017-01-01 00:17:13', '2017-01-01 11:03:34', '38781', 'Wilton Ave & Diversey Pkwy', 'Halsted St & Wrightwood Ave', 'Subscriber', 'Female', '1988.0']\n",
      "['2017-01-01 00:18:28', '2017-01-01 00:31:05', '757', 'Canal St & Madison St', 'LaSalle St & Illinois St', 'Customer', '', '']\n",
      "['2017-01-01 00:18:50', '2017-01-01 00:21:47', '177', 'Theater on the Lake', 'Lakeview Ave & Fullerton Pkwy', 'Subscriber', 'Male', '1991.0']\n",
      "['2017-01-01 00:23:41', '2017-01-01 00:29:13', '332', 'Halsted St & Maxwell St', 'Halsted St & 18th St', 'Subscriber', 'Male', '1984.0']\n",
      "['2017-01-01 00:25:47', '2017-01-01 00:39:53', '846', 'Ravenswood Ave & Lawrence Ave', 'Clarendon Ave & Gordon Ter', 'Subscriber', 'Female', '1987.0']\n",
      "['2017-01-01 00:25:47', '2017-01-01 00:43:23', '1056', 'Clark St & Congress Pkwy', 'Wolcott Ave & Polk St', 'Subscriber', 'Male', '1984.0']\n",
      "['2017-01-01 00:26:21', '2017-01-01 00:39:40', '799', 'Ravenswood Ave & Lawrence Ave', 'Clarendon Ave & Gordon Ter', 'Subscriber', 'Male', '1987.0']\n",
      "['2017-01-01 00:27:21', '2017-01-01 00:42:59', '938', 'Millennium Park', 'Michigan Ave & 18th St', 'Subscriber', 'Male', '1991.0']\n",
      "['2017-01-01 00:27:28', '2017-01-01 00:42:44', '916', 'Millennium Park', 'Michigan Ave & 18th St', 'Subscriber', 'Female', '1990.0']\n",
      "['2017-01-01 00:27:45', '2017-01-01 00:31:13', '208', 'Damen Ave & Chicago Ave', 'Damen Ave & Division St', 'Subscriber', 'Male', '1982.0']\n"
     ]
    }
   ],
   "source": [
    "data_list = data_list[1:]\n",
    "\n",
    "for i in range(20):\n",
    "    print(data_list[i])"
   ]
  },
  {
   "cell_type": "markdown",
   "metadata": {},
   "source": [
    "# Task 2\n",
    ">Print the \"gender\" of the first 20 rows"
   ]
  },
  {
   "cell_type": "code",
   "execution_count": 42,
   "metadata": {
    "collapsed": false
   },
   "outputs": [
    {
     "name": "stdout",
     "output_type": "stream",
     "text": [
      "\n",
      "TASK 2: Printing the genders of the first 20 samples\n",
      "\n",
      "Male\n",
      "Male\n",
      "Male\n",
      "Male\n",
      "Male\n",
      "Male\n",
      "\n",
      "\n",
      "\n",
      "Female\n",
      "\n",
      "Male\n",
      "Male\n",
      "Female\n",
      "Male\n",
      "Male\n",
      "Male\n",
      "Female\n",
      "Male\n"
     ]
    }
   ],
   "source": [
    "print(\"\\nTASK 2: Printing the genders of the first 20 samples\")\n",
    "for i in range(20):\n",
    "    print(data_list[i][6])"
   ]
  },
  {
   "cell_type": "markdown",
   "metadata": {},
   "source": [
    "# Task 3\n",
    ">Create a function to add the columns(features) of a list in another list in the same order"
   ]
  },
  {
   "cell_type": "code",
   "execution_count": 43,
   "metadata": {
    "collapsed": false
   },
   "outputs": [
    {
     "name": "stdout",
     "output_type": "stream",
     "text": [
      "\n",
      "TASK 3: Printing the list of genders of the first 20 samples\n",
      "['', 'Male', 'Male', 'Male', 'Male', 'Male', 'Male', '', '', '', 'Female', '', 'Male', 'Male', 'Female', 'Male', 'Male', 'Male', 'Female', 'Male']\n"
     ]
    }
   ],
   "source": [
    "def column_to_list(data, index):\n",
    "    '''Get a dataset and get all the values of a column and return as a list.\n",
    "\n",
    "    Args:\n",
    "        data (list(list)): The dataset\n",
    "        index (int): The column index\n",
    "\n",
    "    Returns:\n",
    "        list: List with all values of a column\n",
    "    '''\n",
    "    # Tip: You can use a for to iterate over the samples, get the feature by index and append into a list\n",
    "    column_list = [sample[index] for sample in data]\n",
    "    return column_list\n",
    "\n",
    "\n",
    "# Let's check with the genders if it's working (only the first 20)\n",
    "print(\"\\nTASK 3: Printing the list of genders of the first 20 samples\")\n",
    "print(column_to_list(data_list, -2)[:20])\n",
    "\n",
    "# ------------ DO NOT CHANGE ANY CODE HERE ------------\n",
    "assert type(column_to_list(data_list, -2)) is list, \"TASK 3: Wrong type returned. It should return a list.\"\n",
    "assert len(column_to_list(data_list, -2)) == 1551505, \"TASK 3: Wrong lenght returned.\"\n",
    "assert column_to_list(data_list, -2)[0] == \"\" and column_to_list(data_list, -2)[1] == \"Male\", \"TASK 3: The list doesn't match.\"\n",
    "# -----------------------------------------------------"
   ]
  },
  {
   "cell_type": "markdown",
   "metadata": {},
   "source": [
    "# Task 4\n",
    ">Count each gender. You should not use a function to do that."
   ]
  },
  {
   "cell_type": "code",
   "execution_count": 44,
   "metadata": {
    "collapsed": false
   },
   "outputs": [
    {
     "name": "stdout",
     "output_type": "stream",
     "text": [
      "\n",
      "TASK 4: Printing how many males and females we found\n",
      "Male:  935854 \n",
      "Female:  298784\n"
     ]
    }
   ],
   "source": [
    "male = len([sample[-2] for sample in data_list if sample[-2] == \"Male\"])\n",
    "female = len([sample[-2] for sample in data_list if sample[-2] == \"Female\"])\n",
    "\n",
    "\n",
    "# Checking the result\n",
    "print(\"\\nTASK 4: Printing how many males and females we found\")\n",
    "print(\"Male: \", male, \"\\nFemale: \", female)\n",
    "\n",
    "# ------------ DO NOT CHANGE ANY CODE HERE ------------\n",
    "assert male == 935854 and female == 298784, \"TASK 4: Count doesn't match.\"\n",
    "# -----------------------------------------------------"
   ]
  },
  {
   "cell_type": "markdown",
   "metadata": {},
   "source": [
    "# Task 5\n",
    ">Create a function to count the genders. Return a list. Should return a list with [count_male, count_female] (e.g., [10, 15] means 10 Males, 15 Females)"
   ]
  },
  {
   "cell_type": "code",
   "execution_count": 45,
   "metadata": {
    "collapsed": false
   },
   "outputs": [
    {
     "name": "stdout",
     "output_type": "stream",
     "text": [
      "\n",
      "TASK 5: Printing result of count_gender\n",
      "[935854, 298784]\n"
     ]
    }
   ],
   "source": [
    "def count_gender(data_list):\n",
    "    '''Count how many males and females have on data_list.\n",
    "\n",
    "    Args:\n",
    "        data_list (list): The list with genders\n",
    "\n",
    "    Returns:\n",
    "        [int, int]: List with all quanity of males and quantity of females [males_qty, females_qty].\n",
    "    '''\n",
    "    male = 0\n",
    "    female = 0\n",
    "    for sample in data_list:\n",
    "        if sample[-2] == \"Male\":\n",
    "            male += 1\n",
    "        elif sample[-2] == \"Female\":\n",
    "            female += 1\n",
    "    return [male, female]\n",
    "\n",
    "\n",
    "print(\"\\nTASK 5: Printing result of count_gender\")\n",
    "print(count_gender(data_list))\n",
    "\n",
    "# ------------ DO NOT CHANGE ANY CODE HERE ------------\n",
    "assert type(count_gender(data_list)) is list, \"TASK 5: Wrong type returned. It should return a list.\"\n",
    "assert len(count_gender(data_list)) == 2, \"TASK 5: Wrong lenght returned.\"\n",
    "assert count_gender(data_list)[0] == 935854 and count_gender(data_list)[1] == 298784, \"TASK 5: Returning wrong result!\"\n",
    "# -----------------------------------------------------"
   ]
  },
  {
   "cell_type": "markdown",
   "metadata": {},
   "source": [
    "# Task 6\n",
    ">Create a function to get the most popular gender and print the gender as string. We expect to see \"Male\", \"Female\" or \"Equal\" as answer."
   ]
  },
  {
   "cell_type": "code",
   "execution_count": 46,
   "metadata": {
    "collapsed": false
   },
   "outputs": [
    {
     "name": "stdout",
     "output_type": "stream",
     "text": [
      "\n",
      "TASK 6: Which one is the most popular gender?\n",
      "Most popular gender is:  Male\n"
     ]
    },
    {
     "data": {
      "image/png": "[encoded data removed]",
      "text/plain": [
       "<matplotlib.figure.Figure at 0x1190b1b00>"
      ]
     },
     "metadata": {},
     "output_type": "display_data"
    }
   ],
   "source": [
    "def most_popular_gender(data_list):\n",
    "    '''Return the most popular genre name (Male, Female or Equal)\n",
    "\n",
    "    Args:\n",
    "        data_list (list): A list with all genres from a data set.\n",
    "\n",
    "    Returns:\n",
    "        str: Most repeated genre name.\n",
    "    '''\n",
    "    male, female = count_gender(data_list)\n",
    "    if male > female:\n",
    "        return \"Male\"\n",
    "    elif male < female:\n",
    "        return \"Female\"\n",
    "    else:\n",
    "        return \"Equal\"\n",
    "\n",
    "print(\"\\nTASK 6: Which one is the most popular gender?\")\n",
    "print(\"Most popular gender is: \", most_popular_gender(data_list))\n",
    "\n",
    "# ------------ DO NOT CHANGE ANY CODE HERE ------------\n",
    "assert type(most_popular_gender(data_list)) is str, \"TASK 6: Wrong type returned. It should return a string.\"\n",
    "assert most_popular_gender(data_list) == \"Male\", \"TASK 6: Returning wrong result!\"\n",
    "# -----------------------------------------------------\n",
    "\n",
    "# If it's everything running as expected, check this graph!\n",
    "gender_list = column_to_list(data_list, -2)\n",
    "types = [\"Male\", \"Female\"]\n",
    "quantity = count_gender(data_list)\n",
    "y_pos = list(range(len(types)))\n",
    "plt.bar(y_pos, quantity)\n",
    "plt.ylabel('Quantity')\n",
    "plt.xlabel('Gender')\n",
    "plt.xticks(y_pos, types)\n",
    "plt.title('Quantity by Gender')\n",
    "plt.show(block=True)"
   ]
  },
  {
   "cell_type": "markdown",
   "metadata": {},
   "source": [
    "# Task 7\n",
    ">Plot a similar graph for user_types. Make sure the legend is correct."
   ]
  },
  {
   "cell_type": "code",
   "execution_count": 47,
   "metadata": {
    "collapsed": false
   },
   "outputs": [
    {
     "name": "stdout",
     "output_type": "stream",
     "text": [
      "\n",
      "TASK 7: Check the chart!\n"
     ]
    },
    {
     "data": {
      "image/png": "[encoded data removed]",
      "text/plain": [
       "<matplotlib.figure.Figure at 0x118bdfa20>"
      ]
     },
     "metadata": {},
     "output_type": "display_data"
    }
   ],
   "source": [
    "print(\"\\nTASK 7: Check the chart!\")\n",
    "\n",
    "user_type_list = column_to_list(data_list, -3)\n",
    "types = [\"Subscriber\", \"Customer\"]\n",
    "quantity = [user_type_list.count(\"Subscriber\"), user_type_list.count(\"Customer\")]\n",
    "y_pos = list(range(len(types)))\n",
    "plt.bar(y_pos, quantity)\n",
    "plt.ylabel('Quantity')\n",
    "plt.xlabel('User Type')\n",
    "plt.xticks(y_pos, types)\n",
    "plt.title('Quantity by User Type')\n",
    "plt.show(block=True)"
   ]
  },
  {
   "cell_type": "markdown",
   "metadata": {},
   "source": [
    "# Task 8\n",
    ">Answer the following question"
   ]
  },
  {
   "cell_type": "code",
   "execution_count": 48,
   "metadata": {
    "collapsed": false
   },
   "outputs": [
    {
     "name": "stdout",
     "output_type": "stream",
     "text": [
      "\n",
      "TASK 8: Why the following condition is False?\n",
      "male + female == len(data_list): False\n",
      "Write your answer: \n",
      "asd\n",
      "Answer: asd\n"
     ]
    }
   ],
   "source": [
    "male, female = count_gender(data_list)\n",
    "print(\"\\nTASK 8: Why the following condition is False?\")\n",
    "print(\"male + female == len(data_list):\", male + female == len(data_list))\n",
    "print(\"Write your answer: \")\n",
    "answer = input()\n",
    "print(\"Answer:\", answer)\n",
    "\n",
    "# ------------ DO NOT CHANGE ANY CODE HERE ------------\n",
    "assert answer != \"Type your answer here.\", \"TASK 8: Write your own answer!\"\n",
    "# -----------------------------------------------------\n"
   ]
  },
  {
   "cell_type": "markdown",
   "metadata": {},
   "source": [
    "# Task 9\n",
    ">Find the Minimum, Maximum, Mean and Median trip duration. You should not use ready functions to do that, like max() or min()."
   ]
  },
  {
   "cell_type": "code",
   "execution_count": 49,
   "metadata": {
    "collapsed": false
   },
   "outputs": [
    {
     "name": "stdout",
     "output_type": "stream",
     "text": [
      "\n",
      "TASK 9: Printing the min, max, mean and median\n",
      "Min:  60 Max:  86338 Mean:  939.7777590146342 Median:  670\n"
     ]
    }
   ],
   "source": [
    "trip_duration_list = list(map(int, column_to_list(data_list, 2)))\n",
    "list_size = len(trip_duration_list)\n",
    "trip_duration_list.sort()\n",
    "\n",
    "if list_size%2 == 0:\n",
    "    median_trip = (trip_duration_list[list_size // 2 - 1] + trip_duration_list[list_size // 2]) / 2\n",
    "else:\n",
    "    median_trip = trip_duration_list[list_size // 2]\n",
    "min_trip = trip_duration_list[0]\n",
    "max_trip = trip_duration_list[-1]\n",
    "mean_trip = sum(trip_duration_list)/list_size\n",
    "\n",
    "print(\"\\nTASK 9: Printing the min, max, mean and median\")\n",
    "print(\"Min: \", min_trip, \"Max: \", max_trip, \"Mean: \", mean_trip, \"Median: \", median_trip)\n",
    "\n",
    "# ------------ DO NOT CHANGE ANY CODE HERE ------------\n",
    "assert round(min_trip) == 60, \"TASK 9: min_trip with wrong result!\"\n",
    "assert round(max_trip) == 86338, \"TASK 9: max_trip with wrong result!\"\n",
    "assert round(mean_trip) == 940, \"TASK 9: mean_trip with wrong result!\"\n",
    "assert round(median_trip) == 670, \"TASK 9: median_trip with wrong result!\"\n",
    "# -----------------------------------------------------"
   ]
  },
  {
   "cell_type": "markdown",
   "metadata": {},
   "source": [
    "# Task 10\n",
    ">Check types how many start_stations do we have using set()"
   ]
  },
  {
   "cell_type": "code",
   "execution_count": 50,
   "metadata": {
    "collapsed": false
   },
   "outputs": [
    {
     "name": "stdout",
     "output_type": "stream",
     "text": [
      "\n",
      "TASK 10: Printing start stations:\n",
      "582\n",
      "{'Damen Ave & Wellington Ave', 'Western Ave & 28th St', 'Cannon Dr & Fullerton Ave', 'St. Clair St & Erie St', '63rd St Beach', 'Phillips Ave & 79th St', 'Knox Ave & Montrose Ave', 'State St & Van Buren St', 'Mies van der Rohe Way & Chestnut St', 'Sheffield Ave & Waveland Ave', 'Calumet Ave & 21st St', 'Michigan Ave & 8th St', 'Indiana Ave & Roosevelt Rd', 'Maplewood Ave & Peterson Ave', 'Clarendon Ave & Junior Ter', 'Rainbow Beach', 'Claremont Ave & Hirsch St', 'Clark St & Wellington Ave', 'Prairie Ave & 43rd St', 'Damen Ave & Charleston St', 'Elmwood Ave & Austin St', 'Ravenswood Ave & Berteau Ave', 'Oak Park Ave & South Blvd', 'Damen Ave & Chicago Ave', 'Cottage Grove Ave & 63rd St', 'South Shore Dr & 67th St', 'Wacker Dr & Washington St', 'Sawyer Ave & Irving Park Rd', 'Wabash Ave & 87th St', 'Kedzie Ave & Lake St', 'Southport Ave & Waveland Ave', 'Drake Ave & Montrose Ave', 'Clark St & Chicago Ave', 'Columbus Dr & Randolph St', 'Avers Ave & Belmont Ave', 'Halsted St & 56th St', 'Valli Produce - Evanston Plaza', 'Leavitt St & Addison St', 'Racine Ave & 35th St', 'Wentworth Ave & 35th St', 'East Ave & Madison St', 'Larrabee St & Oak St', 'Wolcott Ave & Polk St', 'Wells St & Huron St', 'Kostner Ave & Lake St', 'Blue Island Ave & 18th St', 'Cottage Grove Ave & 47th St', 'Sheridan Rd & Irving Park Rd', 'Sheridan Rd & Buena Ave', 'Michigan Ave & Jackson Blvd', 'Albany Ave & Bloomingdale Ave', 'Clarendon Ave & Leland Ave', 'Clark St & North Ave', 'Clark St & 9th St (AMLI)', 'Oakley Ave & Irving Park Rd', 'Glenwood Ave & Touhy Ave', '900 W Harrison St', 'Wentworth Ave & Archer Ave', 'Clinton St & Tilden St', 'Sheffield Ave & Willow St', 'Marshfield Ave & 44th St', 'Ashland Ave & Grace St', 'Desplaines St & Jackson Blvd', 'DuSable Museum', 'Central Park Blvd & 5th Ave', 'Theater on the Lake', 'Ellis Ave & 53rd St', 'Dorchester Ave & 49th St', 'Hampden Ct & Diversey Pkwy', 'Morgan St & 18th St', 'Lincoln Ave & Addison St', 'Drake Ave & Fullerton Ave', 'Marine Dr & Ainslie St', 'Ashland Ave & Augusta Blvd', 'Humboldt Blvd & Armitage Ave', 'Desplaines St & Randolph St', 'Clark St & Lunt Ave', 'Clark St & Berwyn Ave', 'State St & 33rd St', 'Ellis Ave & 83rd St', 'Damen Ave & Cullerton St', 'Clark St & Schiller St', 'Paulina Ave & North Ave', 'Noble St & Milwaukee Ave', 'Campbell Ave & Fullerton Ave', 'McClurg Ct & Erie St', 'Central Ave & Chicago Ave', 'Halsted St & Roosevelt Rd', 'Michigan Ave & Oak St', 'Commercial Ave & 83rd St', 'Lake Shore Dr & Monroe St', 'Shields Ave & 28th Pl', 'Spaulding Ave & Armitage Ave', 'Stave St & Armitage Ave', 'Michigan Ave & Washington St', 'Keystone Ave & Montrose Ave', 'Exchange Ave & 79th St', 'Larrabee St & Kingsbury St', 'Western Ave & Howard St', 'Washtenaw Ave & Lawrence Ave', 'Chicago Ave & Washington St', 'Cottage Grove Ave & 71st St', 'Racine Ave & Randolph St', 'Broadway & Cornelia Ave', 'May St & Cullerton St', 'Harper Ave & 59th St', 'Indiana Ave & 40th St', 'Wood St & Taylor St', 'Clark St & Winnemac Ave', 'Clark St & Columbia Ave', 'Sheffield Ave & Fullerton Ave', 'Milwaukee Ave & Grand Ave', 'Eckhart Park', 'Benson Ave & Church St', 'Jefferson St & Monroe St', 'South Chicago Ave & 83rd St', 'Ashland Ave & McDowell Ave', 'Halsted St & 35th St (*)', 'Clark St & Elmdale Ave', 'Emerald Ave & 28th St', 'Wilton Ave & Belmont Ave', 'Halsted St & Roscoe St', 'Calumet Ave & 18th St', 'Halsted St & 18th St', 'Damen Ave & Division St', 'Pulaski Rd & Lake St', 'Lake Park Ave & 35th St', 'Morgan St & Lake St', 'East Ave & Garfield St', 'Damen Ave & Coulter St', 'Larrabee St & Armitage Ave', 'Clinton St & Washington Blvd', 'Broadway & Wilson Ave', 'Eastlake Ter & Rogers Ave', 'Pine Grove Ave & Waveland Ave', 'Ellis Ave & 58th St', 'Wabash Ave & Adams St', 'Aberdeen St & Monroe St', 'Forest Ave & Lake St', 'Halsted St & Diversey Pkwy', 'Clark St & Touhy Ave', 'MLK Jr Dr & 29th St', 'Ashland Ave & Wrightwood Ave', 'Avondale Ave & Irving Park Rd', 'Eberhart Ave & 61st St', 'Western Ave & Monroe St', 'Halsted St & Dickens Ave', 'Clinton St & Roosevelt Rd', 'Halsted St & North Branch St', 'Orleans St & Elm St (*)', 'Broadway & Argyle St', 'Millard Ave & 26th St', 'Prairie Ave & Garfield Blvd', 'Racine Ave & 15th St', 'Blackstone Ave & Hyde Park Blvd', 'Throop St & 52nd St', 'Leavitt St & North Ave', 'Warren Park East', 'State St & 79th St', 'Calumet Ave & 35th St', 'Loomis St & Lexington St', 'Ashland Ave & Pershing Rd', 'Mason Ave & Madison St', 'Sangamon St & Washington Blvd (*)', 'Manor Ave & Leland Ave', 'Sedgwick St & North Ave', 'MLK Jr Dr & 63rd St', 'Clinton St & Lake St', 'Canal St & Adams St', 'Wilton Ave & Diversey Pkwy', 'State St & Kinzie St', 'LaSalle St & Jackson Blvd', 'Clark St & Randolph St', 'Ashland Ave & Grand Ave', 'Kedzie Ave & 24th St', 'Cicero Ave & Lake St', 'California Ave & Milwaukee Ave', 'Clark St & Grace St', 'Rush St & Cedar St', 'Vernon Ave & 75th St', 'LaSalle St & Adams St', 'Streeter Dr & Grand Ave', 'Talman Ave & Addison St', 'Kostner Ave & Adams St', 'Clinton St & 18th St', 'Normal Ave & 72nd St', '2112 W Peterson Ave', 'Racine Ave & Garfield Blvd', 'Oak Park Ave & Harrison St', 'Damen Ave & Grand Ave', 'Kedzie Ave & Harrison St', 'Sheffield Ave & Wrightwood Ave', 'Milwaukee Ave & Rockwell St', 'Lake Park Ave & 47th St', 'Pine Grove Ave & Irving Park Rd', 'McClurg Ct & Illinois St', 'Stony Island Ave & 82nd St', 'Lincoln Ave & Winona St', 'South Shore Dr & 71st St', 'Lake Shore Dr & Wellington Ave', 'Kingsbury St & Kinzie St', 'Cottage Grove Ave & 51st St', 'Wisconsin Ave & Madison St', 'Greenwood Ave & 47th St', 'Lakefront Trail & Bryn Mawr Ave', 'Field Museum', 'Damen Ave & Foster Ave', 'May St & 69th St', 'Central St & Girard Ave', 'State St & Randolph St', 'Halsted St & Wrightwood Ave', 'Broadway & Berwyn Ave', 'Wood St & Milwaukee Ave', 'LaSalle St & Washington St', 'State St & Harrison St', 'Rush St & Hubbard St', 'California Ave & Division St', 'Western Ave & Leland Ave', 'Campbell Ave & North Ave', 'Leavitt St & Archer Ave', 'Kilbourn Ave & Irving Park Rd', 'Damen Ave & Melrose Ave', 'Western Ave & Division St', 'MLK Jr Dr & 83rd St', 'Wentworth Ave & 33rd St', 'Larrabee St & Webster Ave', 'Dearborn St & Monroe St', 'Green St & Madison St', 'Morgan St & Pershing Rd', 'Christiana Ave & Lawrence Ave', 'Clinton St & Jackson Blvd', 'Paulina St & Howard St', 'Lake Shore Dr & Diversey Pkwy', 'Green St & Randolph St', 'Milwaukee Ave & Cuyler Ave', 'Dorchester Ave & 63rd St', 'Shedd Aquarium', 'Morgan St & Polk St', 'Halsted St & 37th St', 'Ashland Ave & Wellington Ave', 'Ravenswood Ave & Montrose Ave (*)', 'Southport Ave & Wrightwood Ave', 'Dearborn St & Adams St', 'Wabash Ave & 8th St', 'Kedzie Ave & Palmer Ct', 'Racine Ave & Wrightwood Ave', 'Kosciuszko Park', 'Cicero Ave & Quincy St', 'May St & Taylor St', 'Southport Ave & Clark St', 'Broadway & Ridge Ave', 'Franklin St & Lake St', 'Kedzie Ave & 21st St', 'Greenview Ave & Diversey Pkwy', 'Broadway & Barry Ave', 'University Ave & 57th St', 'Kenton Ave & Madison St', 'Lombard Ave & Garfield St', 'Bissell St & Armitage Ave', 'Cottage Grove Ave & 78th St', 'Racine Ave & 18th St', 'Racine Ave (May St) & Fulton St', 'Broadway & Waveland Ave', 'Southport Ave & Irving Park Rd', 'Indiana Ave & 31st St', 'Woodlawn Ave & 75th St', 'Clark St & Montrose Ave', 'Michigan Ave & 18th St', 'Racine Ave & 65th St', 'Larrabee St & North Ave', 'Broadway & Sheridan Rd', 'State St & 76th St', 'Larrabee St & Menomonee St', 'MLK Jr Dr & Oakwood Blvd', 'California Ave & Lake St', 'Wood St & Division St', 'Cornell Ave & Hyde Park Blvd', 'Western Ave & Lunt Ave', 'Sheridan Rd & Loyola Ave', 'Sheffield Ave & Webster Ave', 'Franklin St & Jackson Blvd', 'Financial Pl & Congress Pkwy', 'Wabash Ave & Wacker Pl', 'Richmond St & Diversey Ave', 'Kingsbury St & Erie St', 'Ogden Ave & Congress Pkwy', 'Calumet Ave & 33rd St', 'Sedgwick St & Huron St', 'Sacramento Blvd & Franklin Blvd', 'Damen Ave & Sunnyside Ave', 'Central Park Ave & Ogden Ave', 'Ravenswood Ave & Lawrence Ave', 'Jeffery Blvd & 71st St', 'LaSalle St & Illinois St', 'Ashland Ave & Archer Ave', 'Desplaines St & Kinzie St', 'Sedgwick St & Webster Ave', 'Canal St & Monroe St (*)', 'Michigan Ave & Lake St', 'Wells St & 19th St', 'Calumet Ave & 51st St', 'Albany Ave & 26th St', 'California Ave & Byron St', 'Michigan Ave & 14th St', 'Lake Shore Dr & Belmont Ave', 'Austin Blvd & Chicago Ave', 'Canal St & Harrison St', 'Laramie Ave & Madison St', 'Wabash Ave & Cermak Rd', 'Ravenswood Ave & Irving Park Rd', 'Western Ave & Winnebago Ave', 'Wood St & Hubbard St', 'Calumet Ave & 71st St', 'Saginaw Ave & Exchange Ave', 'California Ave & 21st St', 'Bosworth Ave & Howard St', 'Paulina St & Montrose Ave', 'Evans Ave & 75th St', 'Kimbark Ave & 53rd St', 'Kedzie Ave & Leland Ave', 'Ridge Blvd & Touhy Ave', 'California Ave & 26th St', 'Lake Park Ave & 56th St', 'Buckingham Fountain', 'Ogden Ave & Race Ave', 'Clifton Ave & Lawrence Ave', 'Wentworth Ave & 24th St', 'Central Ave & Harrison St', 'Ada St & Washington Blvd', 'Sheffield Ave & Wellington Ave', 'California Ave & Cortez St', 'Clark St & Lake St', 'MLK Jr Dr & 47th St', 'Racine Ave & 13th St', 'Michigan Ave & Madison St', 'Aberdeen St & Jackson Blvd', 'Union Ave & Root St', 'Wells St & Concord Ln', 'Sheridan Rd & Noyes St (NU)', 'Spaulding Ave & Division St', 'Leavitt St & Lawrence Ave', 'Wabash Ave & 83rd St', 'Lincoln Ave & Roscoe St', 'Pulaski Rd & Congress Pkwy', 'Laramie Ave & Kinzie St', 'Canal St & Taylor St', 'Sedgwick St & Schiller St', 'Morgan Ave & 14th Pl', 'University Library (NU)', 'Normal Ave & Archer Ave', 'Adler Planetarium', 'Princeton Ave & 47th St', 'Loomis St & Taylor St (*)', 'Indiana Ave & 26th St', 'Peoria St & Jackson Blvd', 'Wells St & Walton St', 'Shields Ave & 43rd St', 'Ashland Ave & Lake St', 'Hermitage Ave & Polk St', 'Stony Island Ave & South Chicago Ave', 'Oakley Ave & Roscoe St', 'Washtenaw Ave & 15th St (*)', 'Franklin St & Quincy St', 'Wells St & Polk St', 'Oakley Ave & Touhy Ave', 'Lincoln Ave & Waveland Ave', 'Dearborn Pkwy & Delaware Pl', 'Kedzie Ave & Roosevelt Rd', 'Halsted St & Polk St', 'State St & Pearson St', 'Wells St & Evergreen Ave', 'Ellis Ave & 60th St', 'Fort Dearborn Dr & 31st St', 'Larrabee St & Division St', 'Southport Ave & Belmont Ave', 'Ashland Ave & Chicago Ave', 'Cottage Grove Ave & 43rd St', 'Central Ave & Lake St', 'Montrose Harbor', 'Fairbanks Ct & Grand Ave', 'Dayton St & North Ave', 'Millennium Park', 'Budlong Woods Library', 'Austin Blvd & Lake St', 'Stony Island Ave & 71st St', 'Western Ave & Granville Ave', 'Jeffery Blvd & 76th St', 'Cottage Grove Ave & 67th St', 'Jeffery Blvd & 67th St', 'Woodlawn Ave & Lake Park Ave', 'Stockton Dr & Wrightwood Ave', 'Damen Ave & Cortland St', 'Princeton Ave & Garfield Blvd', 'Rhodes Ave & 32nd St', 'Clark St & Schreiber Ave', 'Sheffield Ave & Kingsbury St', 'Wood St & 35th St', 'Shore Dr & 55th St', 'Logan Blvd & Elston Ave', 'Halsted St & Willow St', 'Halsted St & Blackhawk St (*)', 'Damen Ave & Pershing Rd', 'Leavitt St & Armitage Ave', 'Emerald Ave & 31st St', 'Greenview Ave & Fullerton Ave', 'Ashland Ave & Division St', 'Damen Ave & Leland Ave', 'Damen Ave & 59th St', 'Racine Ave & 61st St', 'Lake Shore Dr & North Blvd', 'Ashland Ave & 50th St', 'Pulaski Rd & Eddy St', 'Clark St & Wrightwood Ave', 'Ashland Ave & 69th St', 'Ashland Ave & Blackhawk St', 'Broadway & Thorndale Ave', 'Francisco Ave & Foster Ave', 'Lincoln Ave & Leavitt St', 'Lincoln Ave & Belmont Ave', 'Wolcott Ave & Fargo Ave', 'Vernon Ave & 79th St', 'Halsted St & 63rd St', 'Kedzie Ave & Chicago Ave', 'Damen Ave & Madison St', 'Ashland Ave & 66th St', 'Troy St & North Ave', 'Kedzie Ave & Foster Ave', 'Southport Ave & Wellington Ave', 'Cottage Grove Ave & Oakwood Blvd', 'Sheridan Rd & Montrose Ave', 'Canal St & Madison St', 'Racine Ave & Congress Pkwy', 'Rockwell St & Eastwood Ave', 'Mies van der Rohe Way & Chicago Ave', 'Stetson Ave & South Water St', 'Southport Ave & Roscoe St', 'Marshfield Ave & Cortland St', 'Dodge Ave & Church St', 'Loomis St & Archer Ave', 'Halsted St & 21st St', 'Woodlawn Ave & 55th St', 'Franklin St & Chicago Ave', 'California Ave & Montrose Ave', 'Clifton Ave & Armitage Ave', 'Lincoln Ave & Fullerton Ave', 'Seeley Ave & Roscoe St', 'Sheridan Rd & Lawrence Ave', 'Burnham Harbor', 'Troy St & Elston Ave', 'Cicero Ave & Flournoy St', 'Damen Ave & Clybourn Ave', 'Greenwood Ave & 79th St', 'State St & 29th St', 'Fairfield Ave & Roosevelt Rd', 'Damen Ave & Augusta Blvd', 'California Ave & Altgeld St', 'Michigan Ave & Congress Pkwy', 'Halsted St & 69th St', 'Wabash Ave & 16th St', 'Orleans St & Chestnut St (NEXT Apts)', 'Cottage Grove Ave & 83rd St', 'Lincoln Ave & Diversey Pkwy', 'Seeley Ave & Garfield Blvd', 'McCormick Place', 'Lake Park Ave & 53rd St', 'Halsted St & Maxwell St', 'Shields Ave & 31st St', 'State St & Pershing Rd', 'Ridgeland Ave & Lake St', 'Stony Island Ave & 64th St', 'Lincoln Ave & Belle Plaine Ave', 'Milwaukee Ave & Wabansia Ave', 'Wells St & Elm St', 'Yates Blvd & 75th St', 'Clinton St & Madison St', 'Orleans St & Ohio St', 'Kimball Ave & Belmont Ave', 'Racine Ave & Fullerton Ave', 'Hoyne Ave & 47th St', 'Elizabeth St & 47th St', 'Phillips Ave & 82nd St', 'Ritchie Ct & Banks St', 'Marshfield Ave & 59th St', 'Central Ave & Madison St', 'Clark St & Congress Pkwy', 'Laramie Ave & Gladys Ave', 'Clinton St & Polk St (*)', 'Campbell Ave & Montrose Ave', 'Wabash Ave & Grand Ave', 'Franklin St & Monroe St', 'Ogden Ave & Chicago Ave', 'Lake Shore Dr & Ohio St', 'Damen Ave & Pierce Ave', 'Marion St & South Blvd', 'Conservatory Dr & Lake St', 'California Ave & Francis Pl', 'Central Park Ave & Elbridge Ave', 'Warren Park West', 'Ravenswood Ave & Balmoral Ave', 'Ashland Ave & 63rd St', 'Damen Ave & 51st St', 'Wentworth Ave & 63rd St', 'Halsted St & 51st St', 'Federal St & Polk St', 'Ogden Ave & Roosevelt Rd', 'Broadway & Belmont Ave', 'Western Ave & Walton St', 'Daley Center Plaza', 'Halsted St & Archer Ave', 'Pulaski Rd & Madison St', 'Ellis Ave & 55th St', 'Lakeview Ave & Fullerton Pkwy', 'Artesian Ave & Hubbard St', 'Clark St & Armitage Ave', 'Perry Ave & 69th St', 'Albany (Kedzie) Ave & Montrose Ave', 'Halsted St & 59th St', 'Ashland Ave & 13th St', 'California Ave & Fletcher St', 'Clark St & Jarvis Ave', 'Orleans St & Merchandise Mart Plaza', 'Clarendon Ave & Gordon Ter', 'Keystone Ave & Fullerton Ave', 'Field Blvd & South Water St', 'Rush St & Superior St', 'South Shore Dr & 74th St', 'Bennett Ave & 79th St', 'Carpenter St & Huron St', 'Western Ave & 24th St', 'Wallace St & 35th St', 'Wabash Ave & Roosevelt Rd', 'Dearborn St & Erie St', 'Lawndale Ave & 23rd St', 'Monticello Ave & Irving Park Rd', 'Chicago Ave & Sheridan Rd', 'Elston Ave & Wabansia Ave', 'Greenview Ave & Jarvis Ave', 'Clark St & Elm St', 'Winchester Ave & Elston Ave', 'Halsted St & 47th Pl', 'Ridge Blvd & Howard St', 'MLK Jr Dr & 56th St (*)', 'Cuyler Ave & Augusta St', 'Michigan Ave & Pearson St', 'Paulina St & 18th St', 'Humphrey Ave & Ontario St', 'Kedzie Ave & Bryn Mawr Ave', 'Racine Ave & Belmont Ave', 'Museum of Science and Industry', 'California Ave & 23rd Pl', 'State St & 19th St', 'Central Park Ave & North Ave', 'Morgan St & 31st St', 'Ashland Ave & Belle Plaine Ave', 'Forest Ave & Chicago Ave', 'State St & 35th St', 'Clybourn Ave & Division St', 'Clark St & Lincoln Ave', 'Clark St & Leland Ave', 'Ashland Ave & Harrison St', 'Sheridan Rd & Greenleaf Ave', 'California Ave & North Ave', 'Western Ave & 21st St', 'Ashland Ave & Garfield Blvd', 'Stony Island Ave & 67th St', 'Clark St & Bryn Mawr Ave', 'Dusable Harbor', 'Central St Metra', 'Drake Ave & Addison St', 'Kilbourn Ave & Milwaukee Ave', 'Lombard Ave & Madison St', 'Glenwood Ave & Morse Ave', 'Cityfront Plaza Dr & Pioneer Ct', 'Ashland Ave & 21st St', 'Loomis St & Jackson Blvd', 'Kedzie Ave & Milwaukee Ave', 'Western Ave & Congress Pkwy', 'Southport Ave & Clybourn Ave', 'Western Blvd & 48th Pl', 'St. Louis Ave & Balmoral Ave', 'Stony Island Ave & 75th St', 'Broadway & Granville Ave'}\n"
     ]
    }
   ],
   "source": [
    "user_types = set(column_to_list(data_list, 3))\n",
    "\n",
    "print(\"\\nTASK 10: Printing start stations:\")\n",
    "print(len(user_types))\n",
    "print(user_types)\n",
    "\n",
    "# ------------ DO NOT CHANGE ANY CODE HERE ------------\n",
    "assert len(user_types) == 582, \"TASK 10: Wrong len of start stations.\"\n",
    "# -----------------------------------------------------"
   ]
  },
  {
   "cell_type": "markdown",
   "metadata": {},
   "source": [
    "# Task 11\n",
    ">Go back and make sure you documented your functions. Explain the input, output and what it do. Example:\n",
    "\n",
    "``` python\n",
    "def new_function(param1: int, param2: str) -> list:\n",
    "    '''\n",
    "    Example function with annotations.\n",
    "    Args:\n",
    "        param1: The first parameter.\n",
    "        param2: The second parameter.\n",
    "    Returns:\n",
    "        List of X values\n",
    "\n",
    "    '''\n",
    "```"
   ]
  },
  {
   "cell_type": "markdown",
   "metadata": {},
   "source": [
    "# Task 12 - Challenge! (Optional)\n",
    ">Create a function to count user types without hardcoding the types so we can use this function with a different kind of data."
   ]
  },
  {
   "cell_type": "code",
   "execution_count": 51,
   "metadata": {
    "collapsed": false
   },
   "outputs": [
    {
     "name": "stdout",
     "output_type": "stream",
     "text": [
      "Will you face it?\n",
      "yes\n",
      "\n",
      "TASK 11: Printing results for count_items()\n",
      "Types: ['', 'Male', 'Female'] Counts: [316867, 935854, 298784]\n"
     ]
    }
   ],
   "source": [
    "print(\"Will you face it?\")\n",
    "answer = \"yes\"\n",
    "print(answer)\n",
    "\n",
    "def count_items(column_list):\n",
    "    '''Count how many items of each type a list have\n",
    "\n",
    "    Args:\n",
    "        column_list (list): List with all types in a dataset\n",
    "\n",
    "    Returns:\n",
    "        [list, list]: First list contain all types names and second list\n",
    "        contains each item type occurrency.\n",
    "    '''\n",
    "    item_types = list(set(column_list))\n",
    "    count_items = [column_list.count(item_type) for item_type in item_types]\n",
    "\n",
    "    return item_types, count_items\n",
    "\n",
    "\n",
    "if answer == \"yes\":\n",
    "    # ------------ DO NOT CHANGE ANY CODE HERE ------------\n",
    "    column_list = column_to_list(data_list, -2)\n",
    "    types, counts = count_items(column_list)\n",
    "    print(\"\\nTASK 11: Printing results for count_items()\")\n",
    "    print(\"Types:\", types, \"Counts:\", counts)\n",
    "    assert len(types) == 3, \"TASK 11: There are 3 types of gender!\"\n",
    "    assert sum(counts) == 1551505, \"TASK 11: Returning wrong result!\"\n",
    "    # -----------------------------------------------------"
   ]
  },
  {
   "cell_type": "markdown",
   "metadata": {},
   "source": [
    "# Task 13 (Extra)\n",
    ">Plot a chart to show how many persons leaves from most popular start station and less popular."
   ]
  },
  {
   "cell_type": "code",
   "execution_count": 52,
   "metadata": {
    "collapsed": false
   },
   "outputs": [
    {
     "name": "stdout",
     "output_type": "stream",
     "text": [
      "Reading data...\n"
     ]
    },
    {
     "data": {
      "image/png": "[encoded data removed]",
      "text/plain": [
       "<matplotlib.figure.Figure at 0x15e5e4e80>"
      ]
     },
     "metadata": {},
     "output_type": "display_data"
    },
    {
     "name": "stdout",
     "output_type": "stream",
     "text": [
      "\n",
      "TASK 13: Which one is the most popular start station? And less popular?\n",
      "{'Streeter Dr & Grand Ave': 36686, 'Ashland Ave & Garfield Blvd': 1}\n"
     ]
    }
   ],
   "source": [
    "print(\"Reading data...\")\n",
    "types, quantity = count_items(column_to_list(data_list, 3))\n",
    "max_type = types[quantity.index(max(quantity))]\n",
    "min_type = types[quantity.index(min(quantity))]\n",
    "types = [max_type, min_type]\n",
    "quantity = [max(quantity), min(quantity)]\n",
    "y_pos = list(range(len(types)))\n",
    "plt.bar(y_pos, quantity)\n",
    "plt.ylabel('Users Quantity')\n",
    "plt.xlabel('Stations')\n",
    "plt.xticks(y_pos, types)\n",
    "plt.title('Quantity by Start Station')\n",
    "plt.show(block=True)\n",
    "print(\"\\nTASK 13: Which one is the most popular start station? And less popular?\")\n",
    "print(dict(zip(types, quantity)))"
   ]
  },
  {
   "cell_type": "markdown",
   "metadata": {},
   "source": [
    "# Task 14 (Extra)\n",
    ">Plot a pie chart to show the 3 most popular start stations users quantity difference."
   ]
  },
  {
   "cell_type": "code",
   "execution_count": 53,
   "metadata": {
    "collapsed": false
   },
   "outputs": [
    {
     "name": "stdout",
     "output_type": "stream",
     "text": [
      "How different are the three most popular start stations about users quantity.\n",
      "Reading data...\n"
     ]
    },
    {
     "data": {
      "image/png": "[encoded data removed]",
      "text/plain": [
       "<matplotlib.figure.Figure at 0x15fccd4e0>"
      ]
     },
     "metadata": {},
     "output_type": "display_data"
    },
    {
     "name": "stdout",
     "output_type": "stream",
     "text": [
      "{'Streeter Dr & Grand Ave': 36686, 'Lake Shore Dr & Monroe St': 21822, 'Clinton St & Washington Blvd': 22429}\n"
     ]
    }
   ],
   "source": [
    "print(\"How different are the three most popular start stations about users quantity.\")\n",
    "print(\"Reading data...\")\n",
    "types, quantity = count_items(column_to_list(data_list, 3))\n",
    "three_max_quantity = []\n",
    "three_max_types = []\n",
    "for _ in range(3):\n",
    "    value_index = quantity.index(max(quantity))\n",
    "    three_max_quantity.append(quantity.pop(value_index))\n",
    "    three_max_types.append(types.pop(value_index))\n",
    "\n",
    "explode = (0.1, 0, 0)  # only \"explode\" the 2nd slice\n",
    "\n",
    "fig1, ax1 = plt.subplots()\n",
    "ax1.pie(three_max_quantity, explode=explode, labels=three_max_types,\n",
    "        autopct='%1.1f%%', shadow=True, startangle=90)\n",
    "ax1.axis('equal')  # Equal aspect ratio ensures that pie is drawn as a circle.\n",
    "plt.show()\n",
    "\n",
    "print(dict(zip(three_max_types, three_max_quantity)))"
   ]
  }
 ],
 "metadata": {
  "kernelspec": {
   "display_name": "Python 3",
   "language": "python",
   "name": "python3"
  },
  "language_info": {
   "codemirror_mode": {
    "name": "ipython",
    "version": 3
   },
   "file_extension": ".py",
   "mimetype": "text/x-python",
   "name": "python",
   "nbconvert_exporter": "python",
   "pygments_lexer": "ipython3",
   "version": "3.5.2"
  }
 },
 "nbformat": 4,
 "nbformat_minor": 2
}
